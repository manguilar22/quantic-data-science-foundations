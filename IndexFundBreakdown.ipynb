{
 "cells": [
  {
   "cell_type": "code",
   "execution_count": 71,
   "id": "1fc72a8e-6c2f-4af4-bc39-5791abdd27e5",
   "metadata": {
    "ExecuteTime": {
     "end_time": "2024-02-28T22:40:05.970146961Z",
     "start_time": "2024-02-28T22:40:05.894682392Z"
    }
   },
   "outputs": [],
   "source": [
    "import os\n",
    "from bs4 import BeautifulSoup"
   ]
  },
  {
   "cell_type": "code",
   "execution_count": 72,
   "id": "645d7e94-dda4-481d-be7b-76ea57099adb",
   "metadata": {
    "ExecuteTime": {
     "end_time": "2024-02-28T22:40:06.010044376Z",
     "start_time": "2024-02-28T22:40:06.009694335Z"
    }
   },
   "outputs": [],
   "source": [
    "files = os.listdir(\"data/dumps\")"
   ]
  },
  {
   "cell_type": "code",
   "execution_count": 73,
   "id": "5f25d357-b7bd-47fa-9a16-d7416f9a1752",
   "metadata": {
    "ExecuteTime": {
     "end_time": "2024-02-28T22:40:06.420506882Z",
     "start_time": "2024-02-28T22:40:06.009990336Z"
    }
   },
   "outputs": [],
   "source": [
    "data = []\n",
    "for file in files:\n",
    "\n",
    "    html_doc = open(f\"data/dumps/{file}\").read()\n",
    "\n",
    "    soup = BeautifulSoup(html_doc, 'html.parser')\n",
    "    rows = soup.find(\"tbody\").find_all('tr')\n",
    "    \n",
    "    category = file.replace(\".html\",\"\") \n",
    "\n",
    "    for row in rows: \n",
    "        td = row.find_all(\"td\")\n",
    "        index = td[0].get_text()\n",
    "        name = td[1].get_text()\n",
    "        symbol = td[2].get_text() \n",
    "        percentage = td[3].get_text().split(\"%\")[0]\n",
    "\n",
    "        record = dict(index=index, name=name, symbol=symbol, percentage=percentage, category=category)\n",
    "    \n",
    "        data.append(record)"
   ]
  },
  {
   "cell_type": "code",
   "execution_count": 74,
   "id": "20bc1d80-8d53-42bd-b195-41cf53b7218f",
   "metadata": {
    "ExecuteTime": {
     "end_time": "2024-02-28T22:40:06.668067609Z",
     "start_time": "2024-02-28T22:40:06.419992519Z"
    }
   },
   "outputs": [],
   "source": [
    "import pandas as pd"
   ]
  },
  {
   "cell_type": "code",
   "execution_count": 75,
   "id": "6679b18d-a355-4169-aa84-56c1c0016e94",
   "metadata": {
    "ExecuteTime": {
     "end_time": "2024-02-28T22:40:06.677679771Z",
     "start_time": "2024-02-28T22:40:06.671053632Z"
    }
   },
   "outputs": [],
   "source": [
    "pd.DataFrame(data).to_csv(\"data/stocks.csv\",index=False)"
   ]
  },
  {
   "cell_type": "code",
   "execution_count": 76,
   "id": "079d3bb3-fa71-429e-ba29-8ecab99ac34b",
   "metadata": {
    "ExecuteTime": {
     "end_time": "2024-02-28T22:40:06.683360522Z",
     "start_time": "2024-02-28T22:40:06.678665222Z"
    }
   },
   "outputs": [],
   "source": [
    "df = pd.read_csv(\"data/stocks.csv\")"
   ]
  },
  {
   "cell_type": "code",
   "execution_count": 77,
   "id": "1b41a59b-b8d4-4552-9a1a-fff8f65af283",
   "metadata": {
    "ExecuteTime": {
     "end_time": "2024-02-28T22:40:06.738492542Z",
     "start_time": "2024-02-28T22:40:06.726775189Z"
    },
    "scrolled": true
   },
   "outputs": [
    {
     "data": {
      "text/html": [
       "<div>\n",
       "<style scoped>\n",
       "    .dataframe tbody tr th:only-of-type {\n",
       "        vertical-align: middle;\n",
       "    }\n",
       "\n",
       "    .dataframe tbody tr th {\n",
       "        vertical-align: top;\n",
       "    }\n",
       "\n",
       "    .dataframe thead th {\n",
       "        text-align: right;\n",
       "    }\n",
       "</style>\n",
       "<table border=\"1\" class=\"dataframe\">\n",
       "  <thead>\n",
       "    <tr style=\"text-align: right;\">\n",
       "      <th></th>\n",
       "      <th>index</th>\n",
       "      <th>name</th>\n",
       "      <th>symbol</th>\n",
       "      <th>percentage</th>\n",
       "      <th>category</th>\n",
       "    </tr>\n",
       "  </thead>\n",
       "  <tbody>\n",
       "    <tr>\n",
       "      <th>0</th>\n",
       "      <td>1</td>\n",
       "      <td>Unitedhealth Group Inc</td>\n",
       "      <td>UNH</td>\n",
       "      <td>8.902782</td>\n",
       "      <td>DIA</td>\n",
       "    </tr>\n",
       "    <tr>\n",
       "      <th>1</th>\n",
       "      <td>2</td>\n",
       "      <td>Microsoft Corp</td>\n",
       "      <td>MSFT</td>\n",
       "      <td>6.882032</td>\n",
       "      <td>DIA</td>\n",
       "    </tr>\n",
       "    <tr>\n",
       "      <th>2</th>\n",
       "      <td>3</td>\n",
       "      <td>Goldman Sachs Group Inc</td>\n",
       "      <td>GS</td>\n",
       "      <td>6.569872</td>\n",
       "      <td>DIA</td>\n",
       "    </tr>\n",
       "    <tr>\n",
       "      <th>3</th>\n",
       "      <td>4</td>\n",
       "      <td>Home Depot Inc</td>\n",
       "      <td>HD</td>\n",
       "      <td>6.194837</td>\n",
       "      <td>DIA</td>\n",
       "    </tr>\n",
       "    <tr>\n",
       "      <th>4</th>\n",
       "      <td>5</td>\n",
       "      <td>Caterpillar Inc</td>\n",
       "      <td>CAT</td>\n",
       "      <td>5.360532</td>\n",
       "      <td>DIA</td>\n",
       "    </tr>\n",
       "  </tbody>\n",
       "</table>\n",
       "</div>"
      ],
      "text/plain": [
       "   index                     name symbol  percentage category\n",
       "0      1   Unitedhealth Group Inc    UNH    8.902782      DIA\n",
       "1      2           Microsoft Corp   MSFT    6.882032      DIA\n",
       "2      3  Goldman Sachs Group Inc     GS    6.569872      DIA\n",
       "3      4           Home Depot Inc     HD    6.194837      DIA\n",
       "4      5          Caterpillar Inc    CAT    5.360532      DIA"
      ]
     },
     "execution_count": 77,
     "metadata": {},
     "output_type": "execute_result"
    }
   ],
   "source": [
    "df.head()"
   ]
  },
  {
   "cell_type": "code",
   "execution_count": 78,
   "id": "13715297-6c16-4858-b0b2-ec0cebfbfb84",
   "metadata": {
    "ExecuteTime": {
     "end_time": "2024-02-28T22:40:06.738840033Z",
     "start_time": "2024-02-28T22:40:06.727140574Z"
    }
   },
   "outputs": [
    {
     "data": {
      "text/plain": [
       "734"
      ]
     },
     "execution_count": 78,
     "metadata": {},
     "output_type": "execute_result"
    }
   ],
   "source": [
    "len(df)"
   ]
  },
  {
   "cell_type": "code",
   "execution_count": 79,
   "id": "1ac1086eb62d1525",
   "metadata": {
    "ExecuteTime": {
     "end_time": "2024-02-28T22:40:06.739088171Z",
     "start_time": "2024-02-28T22:40:06.727378617Z"
    },
    "collapsed": false,
    "jupyter": {
     "outputs_hidden": false
    }
   },
   "outputs": [
    {
     "data": {
      "text/plain": [
       "4"
      ]
     },
     "execution_count": 79,
     "metadata": {},
     "output_type": "execute_result"
    }
   ],
   "source": [
    "len(df[\"category\"].unique())"
   ]
  },
  {
   "cell_type": "code",
   "execution_count": 80,
   "id": "4a73f799-98da-408a-a40e-d3263ce90499",
   "metadata": {
    "ExecuteTime": {
     "end_time": "2024-02-28T22:40:06.739390179Z",
     "start_time": "2024-02-28T22:40:06.727595703Z"
    }
   },
   "outputs": [
    {
     "data": {
      "text/plain": [
       "519"
      ]
     },
     "execution_count": 80,
     "metadata": {},
     "output_type": "execute_result"
    }
   ],
   "source": [
    "len(df[\"symbol\"].unique())"
   ]
  },
  {
   "cell_type": "code",
   "execution_count": 81,
   "id": "3d529d01-1f0c-40bf-8a99-4396c56da134",
   "metadata": {
    "ExecuteTime": {
     "end_time": "2024-02-28T22:40:07.320241380Z",
     "start_time": "2024-02-28T22:40:06.727865798Z"
    }
   },
   "outputs": [],
   "source": [
    "import json"
   ]
  },
  {
   "cell_type": "code",
   "execution_count": 82,
   "id": "7015e03198db61a3",
   "metadata": {
    "ExecuteTime": {
     "end_time": "2024-02-28T22:40:07.320510486Z",
     "start_time": "2024-02-28T22:40:06.940777214Z"
    },
    "collapsed": false,
    "jupyter": {
     "outputs_hidden": false
    }
   },
   "outputs": [],
   "source": [
    "json.dump(df['symbol'].unique().tolist(),open('data/symbols.json','w'))"
   ]
  },
  {
   "cell_type": "code",
   "execution_count": 83,
   "id": "bfea13917f83ce",
   "metadata": {
    "ExecuteTime": {
     "end_time": "2024-02-28T22:40:49.949968340Z",
     "start_time": "2024-02-28T22:40:49.907258926Z"
    },
    "collapsed": false,
    "jupyter": {
     "outputs_hidden": false
    }
   },
   "outputs": [],
   "source": [
    "json.dump(df['category'].unique().tolist(), open('data/mutual_funds.json','w'))"
   ]
  },
  {
   "cell_type": "markdown",
   "id": "2ac2ab417d389c39",
   "metadata": {
    "collapsed": false,
    "jupyter": {
     "outputs_hidden": false
    }
   },
   "source": [
    "### Downloading data from Yahoo\n",
    "\n",
    "Yahoo Finance has a publicly available REST-API with limited functionaly.\n",
    "The REST-API requires the following arguments to download data: \"symbol\", \"period1\", \"period2\", \"interval\".\n",
    "\n",
    "period1 = 1641016800 (2022-01-01 00:00:00 UTC)\n",
    "period2 = 1708495200 (2024-03-20 00:00:00 UTC)\n",
    "interval = 1d \n",
    "\n",
    "Using `jq` a command-line utility I can create a script for download data from Yahoo's REST-API. \n",
    "\n",
    "```bash \n",
    "go-stock-price-prediction -symbol $symbol -period1 $period1 -period2 $period2 -interval 1d\n",
    "```\n",
    "\n"
   ]
  },
  {
   "cell_type": "code",
   "execution_count": 84,
   "id": "300fada53a150e4b",
   "metadata": {
    "ExecuteTime": {
     "end_time": "2024-02-28T22:57:06.426237523Z",
     "start_time": "2024-02-28T22:57:06.382027782Z"
    },
    "collapsed": false,
    "jupyter": {
     "outputs_hidden": false
    }
   },
   "outputs": [],
   "source": [
    "indexFunds = df['category'].unique().tolist()"
   ]
  },
  {
   "cell_type": "code",
   "execution_count": 85,
   "id": "7a9d6217-7a06-457e-bf6d-d9c297a1cebc",
   "metadata": {},
   "outputs": [],
   "source": [
    "## Visualizations "
   ]
  },
  {
   "cell_type": "code",
   "execution_count": 86,
   "id": "a4fccfd8d00394b9",
   "metadata": {
    "ExecuteTime": {
     "end_time": "2024-02-28T23:10:04.137686532Z",
     "start_time": "2024-02-28T23:10:04.089815014Z"
    },
    "collapsed": false,
    "jupyter": {
     "outputs_hidden": false
    }
   },
   "outputs": [],
   "source": [
    "import matplotlib.pyplot as plt\n",
    "import numpy as np"
   ]
  },
  {
   "cell_type": "code",
   "execution_count": null,
   "id": "f8851224cd797b56",
   "metadata": {
    "collapsed": false,
    "jupyter": {
     "outputs_hidden": false
    }
   },
   "outputs": [],
   "source": [
    "for indexFund in indexFunds:\n",
    "    try: \n",
    "        plt.figure(figsize=(10, 500))\n",
    "    \n",
    "        x = df[df['category']==indexFund]['percentage'].tolist()\n",
    "        labels = df[df['category']==indexFund]['symbol'].tolist()\n",
    "\n",
    "        plt.pie(x, labels = labels,labeldistance=1.1)\n",
    "        \n",
    "        plt.title(label=f\"{indexFund} Index Fund made of {len(labels)} securities.\")\n",
    "        #plt.show()\n",
    "        plt.savefig(f'data/plots/{indexFund}-piechart.png')\n",
    "    except Exception as err: \n",
    "        print(f'error: {err}')"
   ]
  },
  {
   "cell_type": "code",
   "execution_count": null,
   "id": "164ed6ec-6c14-4220-9bbb-62b52cd52aae",
   "metadata": {},
   "outputs": [],
   "source": [
    "df.head()"
   ]
  },
  {
   "cell_type": "code",
   "execution_count": null,
   "id": "9a308891-25b8-4ffb-a573-0d6a9008e0da",
   "metadata": {},
   "outputs": [],
   "source": [
    "matrix = df.pivot_table(values='percentage',index='symbol',columns='category').dropna(axis=0)"
   ]
  },
  {
   "cell_type": "code",
   "execution_count": null,
   "id": "becfdb50-0ffa-49d2-a690-f92ad74629e5",
   "metadata": {
    "scrolled": true
   },
   "outputs": [],
   "source": [
    "matrix"
   ]
  },
  {
   "cell_type": "code",
   "execution_count": null,
   "id": "600fcbb1-a4f8-44d9-8c07-5c4d8db3f997",
   "metadata": {},
   "outputs": [],
   "source": [
    "matrix.describe()"
   ]
  },
  {
   "cell_type": "code",
   "execution_count": null,
   "id": "01e266bd-e4ea-4ab7-a895-7bf9657343b9",
   "metadata": {},
   "outputs": [],
   "source": [
    "matrix.columns.tolist()"
   ]
  },
  {
   "cell_type": "code",
   "execution_count": null,
   "id": "63a90e5d-1362-4013-8806-5250027b5d90",
   "metadata": {},
   "outputs": [],
   "source": [
    "matrix.index.tolist()"
   ]
  },
  {
   "cell_type": "code",
   "execution_count": null,
   "id": "e222e8be-e600-4242-bee7-18dfd6f1cd56",
   "metadata": {},
   "outputs": [],
   "source": [
    "matrix.sum()"
   ]
  },
  {
   "cell_type": "code",
   "execution_count": null,
   "id": "345f332e-6077-487f-8e74-850f8e809265",
   "metadata": {},
   "outputs": [],
   "source": [
    "df.groupby('category')['percentage'].sum()"
   ]
  },
  {
   "cell_type": "code",
   "execution_count": null,
   "id": "7e263c36-1a4c-4118-b9ad-a1c24f5b7e9f",
   "metadata": {},
   "outputs": [],
   "source": [
    "df.groupby('category')['percentage'].sum() - matrix.sum()"
   ]
  },
  {
   "cell_type": "code",
   "execution_count": null,
   "id": "4289d5e8-2e2c-492d-b210-9dde2ad0b545",
   "metadata": {},
   "outputs": [],
   "source": []
  }
 ],
 "metadata": {
  "kernelspec": {
   "display_name": "Python 3 (ipykernel)",
   "language": "python",
   "name": "python3"
  },
  "language_info": {
   "codemirror_mode": {
    "name": "ipython",
    "version": 3
   },
   "file_extension": ".py",
   "mimetype": "text/x-python",
   "name": "python",
   "nbconvert_exporter": "python",
   "pygments_lexer": "ipython3",
   "version": "3.10.13"
  }
 },
 "nbformat": 4,
 "nbformat_minor": 5
}
